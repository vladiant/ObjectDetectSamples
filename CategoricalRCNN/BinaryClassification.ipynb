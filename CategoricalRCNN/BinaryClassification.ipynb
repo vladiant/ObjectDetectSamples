{
 "cells": [
  {
   "cell_type": "markdown",
   "metadata": {},
   "source": [
    "# Planes vs. Background Prediction Problem\n",
    "## Binary Classification\n",
    "* https://www.tensorflow.org/tutorials/images/cnn\n",
    "* https://machinelearningmastery.com/how-to-develop-a-convolutional-neural-network-to-classify-photos-of-dogs-and-cats/"
   ]
  },
  {
   "cell_type": "code",
   "execution_count": 1,
   "metadata": {},
   "outputs": [],
   "source": [
    "from os import path, listdir\n",
    "\n",
    "import numpy as np\n",
    "\n",
    "import tensorflow as tf\n",
    "\n",
    "from tensorflow.keras import datasets, layers, models\n",
    "from tensorflow.keras.preprocessing.image import ImageDataGenerator, load_img, img_to_array\n",
    "\n",
    "from matplotlib import pyplot\n",
    "from matplotlib.image import imread"
   ]
  },
  {
   "cell_type": "markdown",
   "metadata": {},
   "source": [
    "## Dataset"
   ]
  },
  {
   "cell_type": "code",
   "execution_count": 2,
   "metadata": {},
   "outputs": [],
   "source": [
    "# define location of dataset\n",
    "folder = './Images/'\n",
    "img_height = 32\n",
    "img_width = 32\n",
    "batch_size = 1"
   ]
  },
  {
   "cell_type": "code",
   "execution_count": 3,
   "metadata": {},
   "outputs": [],
   "source": [
    "datagen = ImageDataGenerator(rescale=1.0/255.0, validation_split=0.2)"
   ]
  },
  {
   "cell_type": "code",
   "execution_count": 4,
   "metadata": {},
   "outputs": [
    {
     "name": "stdout",
     "output_type": "stream",
     "text": [
      "Found 3410 images belonging to 2 classes.\n"
     ]
    }
   ],
   "source": [
    "train_it = datagen.flow_from_directory(folder, \n",
    "                                       subset=\"training\", \n",
    "                                       class_mode='binary',\n",
    "                                       batch_size=batch_size, \n",
    "                                       target_size=(img_height, img_width))"
   ]
  },
  {
   "cell_type": "code",
   "execution_count": 5,
   "metadata": {},
   "outputs": [
    {
     "name": "stdout",
     "output_type": "stream",
     "text": [
      "Found 852 images belonging to 2 classes.\n"
     ]
    }
   ],
   "source": [
    "val_it = datagen.flow_from_directory(folder, \n",
    "                                       subset=\"validation\",\n",
    "                                       class_mode='binary',\n",
    "                                       batch_size=batch_size,\n",
    "                                       target_size=(img_height, img_width))"
   ]
  },
  {
   "cell_type": "markdown",
   "metadata": {},
   "source": [
    "## Base Model"
   ]
  },
  {
   "cell_type": "code",
   "execution_count": 6,
   "metadata": {},
   "outputs": [],
   "source": [
    "model = models.Sequential([\n",
    "    layers.Input(shape=(img_height, img_width,3)),\n",
    "    layers.Conv2D(8, (3,3), padding = \"same\",\n",
    "                  kernel_initializer = tf.keras.initializers.he_uniform(),\n",
    "                  activation = tf.keras.activations.relu),\n",
    "    layers.MaxPooling2D(2,2),\n",
    "    layers.Conv2D(16, (3,3), padding = \"same\",\n",
    "              kernel_initializer = tf.keras.initializers.he_uniform(),\n",
    "              activation = tf.keras.activations.relu),\n",
    "    layers.MaxPooling2D(2,2),\n",
    "    layers.Conv2D(32, (3,3), padding = \"same\",\n",
    "              kernel_initializer = tf.keras.initializers.he_uniform(),\n",
    "              activation = tf.keras.activations.relu),\n",
    "    layers.MaxPooling2D(2,2),\n",
    "    layers.Flatten(),\n",
    "    layers.Dense(units=128,\n",
    "                 kernel_initializer = tf.keras.initializers.he_uniform(),\n",
    "                 activation=tf.keras.activations.relu),\n",
    "    layers.Dense(units=1, activation=tf.keras.activations.sigmoid)\n",
    "])"
   ]
  },
  {
   "cell_type": "code",
   "execution_count": 7,
   "metadata": {},
   "outputs": [
    {
     "name": "stdout",
     "output_type": "stream",
     "text": [
      "Model: \"sequential\"\n",
      "_________________________________________________________________\n",
      "Layer (type)                 Output Shape              Param #   \n",
      "=================================================================\n",
      "conv2d (Conv2D)              (None, 32, 32, 8)         224       \n",
      "_________________________________________________________________\n",
      "max_pooling2d (MaxPooling2D) (None, 16, 16, 8)         0         \n",
      "_________________________________________________________________\n",
      "conv2d_1 (Conv2D)            (None, 16, 16, 16)        1168      \n",
      "_________________________________________________________________\n",
      "max_pooling2d_1 (MaxPooling2 (None, 8, 8, 16)          0         \n",
      "_________________________________________________________________\n",
      "conv2d_2 (Conv2D)            (None, 8, 8, 32)          4640      \n",
      "_________________________________________________________________\n",
      "max_pooling2d_2 (MaxPooling2 (None, 4, 4, 32)          0         \n",
      "_________________________________________________________________\n",
      "flatten (Flatten)            (None, 512)               0         \n",
      "_________________________________________________________________\n",
      "dense (Dense)                (None, 128)               65664     \n",
      "_________________________________________________________________\n",
      "dense_1 (Dense)              (None, 1)                 129       \n",
      "=================================================================\n",
      "Total params: 71,825\n",
      "Trainable params: 71,825\n",
      "Non-trainable params: 0\n",
      "_________________________________________________________________\n"
     ]
    }
   ],
   "source": [
    "model.summary()"
   ]
  },
  {
   "cell_type": "markdown",
   "metadata": {},
   "source": [
    "Compile and train the model"
   ]
  },
  {
   "cell_type": "code",
   "execution_count": 8,
   "metadata": {},
   "outputs": [],
   "source": [
    "model.compile(optimizer=tf.keras.optimizers.SGD(lr=0.001, momentum=0.9),\n",
    "             loss=tf.keras.losses.BinaryCrossentropy(),\n",
    "             metrics=[tf.keras.metrics.BinaryAccuracy()])"
   ]
  },
  {
   "cell_type": "code",
   "execution_count": 9,
   "metadata": {},
   "outputs": [
    {
     "name": "stdout",
     "output_type": "stream",
     "text": [
      "Epoch 1/30\n",
      "3410/3410 [==============================] - 4s 1ms/step - loss: 0.3036 - binary_accuracy: 0.8795 - val_loss: 0.1978 - val_binary_accuracy: 0.9308\n",
      "Epoch 2/30\n",
      "3410/3410 [==============================] - 4s 1ms/step - loss: 0.2127 - binary_accuracy: 0.9202 - val_loss: 0.1655 - val_binary_accuracy: 0.9390\n",
      "Epoch 3/30\n",
      "3410/3410 [==============================] - 8s 2ms/step - loss: 0.1764 - binary_accuracy: 0.9349 - val_loss: 0.1240 - val_binary_accuracy: 0.9437\n",
      "Epoch 4/30\n",
      "3410/3410 [==============================] - 11s 3ms/step - loss: 0.1479 - binary_accuracy: 0.9449 - val_loss: 0.1397 - val_binary_accuracy: 0.9484\n",
      "Epoch 5/30\n",
      "3410/3410 [==============================] - 11s 3ms/step - loss: 0.1318 - binary_accuracy: 0.9504 - val_loss: 0.1691 - val_binary_accuracy: 0.9308\n",
      "Epoch 6/30\n",
      "3410/3410 [==============================] - 11s 3ms/step - loss: 0.1103 - binary_accuracy: 0.9581 - val_loss: 0.1101 - val_binary_accuracy: 0.9531\n",
      "Epoch 7/30\n",
      "3410/3410 [==============================] - 11s 3ms/step - loss: 0.0938 - binary_accuracy: 0.9645 - val_loss: 0.1293 - val_binary_accuracy: 0.9507\n",
      "Epoch 8/30\n",
      "3410/3410 [==============================] - 11s 3ms/step - loss: 0.0803 - binary_accuracy: 0.9672 - val_loss: 0.1186 - val_binary_accuracy: 0.9531\n",
      "Epoch 9/30\n",
      "3410/3410 [==============================] - 11s 3ms/step - loss: 0.0766 - binary_accuracy: 0.9686 - val_loss: 0.2090 - val_binary_accuracy: 0.9214\n",
      "Epoch 10/30\n",
      "3410/3410 [==============================] - 4s 1ms/step - loss: 0.0660 - binary_accuracy: 0.9736 - val_loss: 0.1401 - val_binary_accuracy: 0.9484\n",
      "Epoch 11/30\n",
      "3410/3410 [==============================] - 4s 1ms/step - loss: 0.0432 - binary_accuracy: 0.9830 - val_loss: 0.1315 - val_binary_accuracy: 0.9566\n",
      "Epoch 12/30\n",
      "3410/3410 [==============================] - 4s 1ms/step - loss: 0.0459 - binary_accuracy: 0.9830 - val_loss: 0.1769 - val_binary_accuracy: 0.9624\n",
      "Epoch 13/30\n",
      "3410/3410 [==============================] - 5s 1ms/step - loss: 0.0243 - binary_accuracy: 0.9927 - val_loss: 0.2082 - val_binary_accuracy: 0.9319\n",
      "Epoch 14/30\n",
      "3410/3410 [==============================] - 6s 2ms/step - loss: 0.0536 - binary_accuracy: 0.9801 - val_loss: 0.1542 - val_binary_accuracy: 0.9566\n",
      "Epoch 15/30\n",
      "3410/3410 [==============================] - 6s 2ms/step - loss: 0.0194 - binary_accuracy: 0.9927 - val_loss: 0.1638 - val_binary_accuracy: 0.9495\n",
      "Epoch 16/30\n",
      "3410/3410 [==============================] - 6s 2ms/step - loss: 0.0246 - binary_accuracy: 0.9933 - val_loss: 0.1781 - val_binary_accuracy: 0.9448\n",
      "Epoch 17/30\n",
      "3410/3410 [==============================] - 6s 2ms/step - loss: 0.0216 - binary_accuracy: 0.9933 - val_loss: 0.1852 - val_binary_accuracy: 0.9484\n",
      "Epoch 18/30\n",
      "3410/3410 [==============================] - 6s 2ms/step - loss: 0.0183 - binary_accuracy: 0.9935 - val_loss: 0.1344 - val_binary_accuracy: 0.9554\n",
      "Epoch 19/30\n",
      "3410/3410 [==============================] - 6s 2ms/step - loss: 0.0183 - binary_accuracy: 0.9933 - val_loss: 0.1902 - val_binary_accuracy: 0.9390\n",
      "Epoch 20/30\n",
      "3410/3410 [==============================] - 6s 2ms/step - loss: 0.0374 - binary_accuracy: 0.9865 - val_loss: 0.3599 - val_binary_accuracy: 0.9214\n",
      "Epoch 21/30\n",
      "3410/3410 [==============================] - 6s 2ms/step - loss: 0.0286 - binary_accuracy: 0.9909 - val_loss: 0.1438 - val_binary_accuracy: 0.9577\n",
      "Epoch 22/30\n",
      "3410/3410 [==============================] - 6s 2ms/step - loss: 0.0133 - binary_accuracy: 0.9968 - val_loss: 0.1534 - val_binary_accuracy: 0.9542\n",
      "Epoch 23/30\n",
      "3410/3410 [==============================] - 6s 2ms/step - loss: 0.0094 - binary_accuracy: 0.9971 - val_loss: 0.2139 - val_binary_accuracy: 0.9542\n",
      "Epoch 24/30\n",
      "3410/3410 [==============================] - 6s 2ms/step - loss: 0.0016 - binary_accuracy: 0.9997 - val_loss: 0.1577 - val_binary_accuracy: 0.9624\n",
      "Epoch 25/30\n",
      "3410/3410 [==============================] - 6s 2ms/step - loss: 5.0314e-04 - binary_accuracy: 1.0000 - val_loss: 0.1677 - val_binary_accuracy: 0.9601\n",
      "Epoch 26/30\n",
      "3410/3410 [==============================] - 6s 2ms/step - loss: 2.2303e-04 - binary_accuracy: 1.0000 - val_loss: 0.1688 - val_binary_accuracy: 0.9613\n",
      "Epoch 27/30\n",
      "3410/3410 [==============================] - 6s 2ms/step - loss: 1.3649e-04 - binary_accuracy: 1.0000 - val_loss: 0.1711 - val_binary_accuracy: 0.9624\n",
      "Epoch 28/30\n",
      "3410/3410 [==============================] - 6s 2ms/step - loss: 1.0921e-04 - binary_accuracy: 1.0000 - val_loss: 0.1729 - val_binary_accuracy: 0.9624\n",
      "Epoch 29/30\n",
      "3410/3410 [==============================] - 6s 2ms/step - loss: 9.2639e-05 - binary_accuracy: 1.0000 - val_loss: 0.1751 - val_binary_accuracy: 0.9601\n",
      "Epoch 30/30\n",
      "3410/3410 [==============================] - 7s 2ms/step - loss: 7.9940e-05 - binary_accuracy: 1.0000 - val_loss: 0.1768 - val_binary_accuracy: 0.9601\n"
     ]
    }
   ],
   "source": [
    "history = model.fit(train_it,\n",
    "                    steps_per_epoch=len(train_it),\n",
    "                    validation_data=val_it,\n",
    "                    epochs=30\n",
    "                   )"
   ]
  },
  {
   "cell_type": "markdown",
   "metadata": {},
   "source": [
    "Evaluate the model"
   ]
  },
  {
   "cell_type": "code",
   "execution_count": 10,
   "metadata": {},
   "outputs": [
    {
     "data": {
      "text/plain": [
       "<matplotlib.legend.Legend at 0x7fb25c60f6d0>"
      ]
     },
     "execution_count": 10,
     "metadata": {},
     "output_type": "execute_result"
    },
    {
     "data": {
      "image/png": "[encoded data removed]",
      "text/plain": [
       "<Figure size 432x288 with 1 Axes>"
      ]
     },
     "metadata": {
      "needs_background": "light"
     },
     "output_type": "display_data"
    }
   ],
   "source": [
    "pyplot.plot(history.history['loss'], label = 'loss')\n",
    "pyplot.plot(history.history['val_loss'], label = 'val_loss')\n",
    "pyplot.xlabel('Epoch')\n",
    "pyplot.ylabel('Loss')\n",
    "pyplot.legend(loc='lower left')"
   ]
  },
  {
   "cell_type": "code",
   "execution_count": 11,
   "metadata": {},
   "outputs": [
    {
     "data": {
      "text/plain": [
       "<matplotlib.legend.Legend at 0x7fb25c5a3ee0>"
      ]
     },
     "execution_count": 11,
     "metadata": {},
     "output_type": "execute_result"
    },
    {
     "data": {
      "image/png": "[encoded data removed]",
      "text/plain": [
       "<Figure size 432x288 with 1 Axes>"
      ]
     },
     "metadata": {
      "needs_background": "light"
     },
     "output_type": "display_data"
    }
   ],
   "source": [
    "pyplot.plot(history.history['binary_accuracy'], label = 'accuracy')\n",
    "pyplot.plot(history.history['val_binary_accuracy'], label = 'val_accuracy')\n",
    "pyplot.xlabel('Epoch')\n",
    "pyplot.ylabel('Accuracy')\n",
    "pyplot.legend(loc='lower right')"
   ]
  },
  {
   "cell_type": "code",
   "execution_count": 12,
   "metadata": {},
   "outputs": [],
   "source": [
    "model.save(\"airplanes_binary.h5\")"
   ]
  }
 ],
 "metadata": {
  "kernelspec": {
   "display_name": "Python 3",
   "language": "python",
   "name": "python3"
  },
  "language_info": {
   "codemirror_mode": {
    "name": "ipython",
    "version": 3
   },
   "file_extension": ".py",
   "mimetype": "text/x-python",
   "name": "python",
   "nbconvert_exporter": "python",
   "pygments_lexer": "ipython3",
   "version": "3.8.10"
  }
 },
 "nbformat": 4,
 "nbformat_minor": 2
}
