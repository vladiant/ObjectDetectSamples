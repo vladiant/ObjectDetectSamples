{
 "cells": [
  {
   "cell_type": "markdown",
   "metadata": {},
   "source": [
    "# Planes vs. Background Prediction Problem\n",
    "## Categorical Classification\n",
    "* https://www.tensorflow.org/tutorials/images/cnn\n",
    "* https://www.tensorflow.org/tutorials/images/classification"
   ]
  },
  {
   "cell_type": "code",
   "execution_count": 1,
   "metadata": {},
   "outputs": [],
   "source": [
    "from os import path, listdir\n",
    "\n",
    "import numpy as np\n",
    "\n",
    "import tensorflow as tf\n",
    "\n",
    "from tensorflow.keras import datasets, layers, models\n",
    "from tensorflow.keras.preprocessing.image import ImageDataGenerator, load_img, img_to_array\n",
    "\n",
    "from matplotlib import pyplot\n",
    "from matplotlib.image import imread"
   ]
  },
  {
   "cell_type": "markdown",
   "metadata": {},
   "source": [
    "## Dataset"
   ]
  },
  {
   "cell_type": "code",
   "execution_count": 2,
   "metadata": {},
   "outputs": [],
   "source": [
    "# define location of dataset\n",
    "folder = './Images/'\n",
    "img_height = 32\n",
    "img_width = 32\n",
    "batch_size = 1"
   ]
  },
  {
   "cell_type": "code",
   "execution_count": 3,
   "metadata": {},
   "outputs": [],
   "source": [
    "datagen = ImageDataGenerator(rescale=1.0/255.0, validation_split=0.2)"
   ]
  },
  {
   "cell_type": "code",
   "execution_count": 4,
   "metadata": {},
   "outputs": [
    {
     "name": "stdout",
     "output_type": "stream",
     "text": [
      "Found 3410 images belonging to 2 classes.\n"
     ]
    }
   ],
   "source": [
    "train_it = datagen.flow_from_directory(folder,\n",
    "                                       subset=\"training\", \n",
    "                                       seed=123,\n",
    "                                       class_mode='categorical',\n",
    "                                       batch_size=batch_size,\n",
    "                                       target_size=(img_height, img_width))"
   ]
  },
  {
   "cell_type": "code",
   "execution_count": 5,
   "metadata": {},
   "outputs": [
    {
     "name": "stdout",
     "output_type": "stream",
     "text": [
      "Found 852 images belonging to 2 classes.\n"
     ]
    }
   ],
   "source": [
    "val_it = datagen.flow_from_directory(folder,\n",
    "                                     subset=\"validation\", \n",
    "                                     seed=123,\n",
    "                                     class_mode='categorical',\n",
    "                                     batch_size=batch_size, \n",
    "                                     target_size=(img_height, img_width))"
   ]
  },
  {
   "cell_type": "markdown",
   "metadata": {},
   "source": [
    "## Base Model"
   ]
  },
  {
   "cell_type": "code",
   "execution_count": 6,
   "metadata": {},
   "outputs": [],
   "source": [
    "model = models.Sequential([\n",
    "    layers.Input(shape=(img_height,img_width,3)),\n",
    "    layers.Conv2D(32, (3,3), padding = \"same\",\n",
    "                  activation = tf.keras.activations.relu),\n",
    "    layers.MaxPooling2D(2,2),\n",
    "    layers.Conv2D(16, (3,3), padding = \"same\",\n",
    "                  activation = tf.keras.activations.relu),\n",
    "    layers.MaxPooling2D(2,2),\n",
    "    layers.Conv2D(8, (3,3), padding = \"same\",\n",
    "                  activation = tf.keras.activations.relu),\n",
    "    layers.MaxPooling2D(2,2),\n",
    "    layers.Flatten(),\n",
    "    layers.Dense(units=128,\n",
    "                 activation=tf.keras.activations.relu),\n",
    "    layers.Dense(units=2, activation=tf.keras.activations.softmax)\n",
    "])"
   ]
  },
  {
   "cell_type": "code",
   "execution_count": 7,
   "metadata": {},
   "outputs": [
    {
     "name": "stdout",
     "output_type": "stream",
     "text": [
      "Model: \"sequential\"\n",
      "_________________________________________________________________\n",
      "Layer (type)                 Output Shape              Param #   \n",
      "=================================================================\n",
      "conv2d (Conv2D)              (None, 32, 32, 32)        896       \n",
      "_________________________________________________________________\n",
      "max_pooling2d (MaxPooling2D) (None, 16, 16, 32)        0         \n",
      "_________________________________________________________________\n",
      "conv2d_1 (Conv2D)            (None, 16, 16, 16)        4624      \n",
      "_________________________________________________________________\n",
      "max_pooling2d_1 (MaxPooling2 (None, 8, 8, 16)          0         \n",
      "_________________________________________________________________\n",
      "conv2d_2 (Conv2D)            (None, 8, 8, 8)           1160      \n",
      "_________________________________________________________________\n",
      "max_pooling2d_2 (MaxPooling2 (None, 4, 4, 8)           0         \n",
      "_________________________________________________________________\n",
      "flatten (Flatten)            (None, 128)               0         \n",
      "_________________________________________________________________\n",
      "dense (Dense)                (None, 128)               16512     \n",
      "_________________________________________________________________\n",
      "dense_1 (Dense)              (None, 2)                 258       \n",
      "=================================================================\n",
      "Total params: 23,450\n",
      "Trainable params: 23,450\n",
      "Non-trainable params: 0\n",
      "_________________________________________________________________\n"
     ]
    }
   ],
   "source": [
    "model.summary()"
   ]
  },
  {
   "cell_type": "markdown",
   "metadata": {},
   "source": [
    "Compile and train the model"
   ]
  },
  {
   "cell_type": "code",
   "execution_count": 8,
   "metadata": {},
   "outputs": [],
   "source": [
    "model.compile(optimizer=tf.keras.optimizers.Adam(),\n",
    "             loss=tf.keras.losses.CategoricalCrossentropy(from_logits=True),\n",
    "             metrics=[tf.keras.metrics.Accuracy()])"
   ]
  },
  {
   "cell_type": "code",
   "execution_count": 9,
   "metadata": {},
   "outputs": [
    {
     "name": "stdout",
     "output_type": "stream",
     "text": [
      "Epoch 1/60\n",
      "3410/3410 [==============================] - 6s 2ms/step - loss: 0.4597 - accuracy: 0.0556 - val_loss: 0.4326 - val_accuracy: 0.0088\n",
      "Epoch 2/60\n",
      "3410/3410 [==============================] - 6s 2ms/step - loss: 0.4178 - accuracy: 0.1262 - val_loss: 0.3859 - val_accuracy: 0.0675\n",
      "Epoch 3/60\n",
      "3410/3410 [==============================] - 6s 2ms/step - loss: 0.4045 - accuracy: 0.1396 - val_loss: 0.4001 - val_accuracy: 0.2060\n",
      "Epoch 4/60\n",
      "3410/3410 [==============================] - 6s 2ms/step - loss: 0.4018 - accuracy: 0.1500 - val_loss: 0.4017 - val_accuracy: 0.0481\n",
      "Epoch 5/60\n",
      "3410/3410 [==============================] - 6s 2ms/step - loss: 0.3901 - accuracy: 0.1547 - val_loss: 0.3822 - val_accuracy: 0.2142\n",
      "Epoch 6/60\n",
      "3410/3410 [==============================] - 6s 2ms/step - loss: 0.3834 - accuracy: 0.2073 - val_loss: 0.3670 - val_accuracy: 0.1884\n",
      "Epoch 7/60\n",
      "3410/3410 [==============================] - 6s 2ms/step - loss: 0.3800 - accuracy: 0.1796 - val_loss: 0.3760 - val_accuracy: 0.2705\n",
      "Epoch 8/60\n",
      "3410/3410 [==============================] - 6s 2ms/step - loss: 0.3799 - accuracy: 0.2425 - val_loss: 0.3931 - val_accuracy: 0.2189\n",
      "Epoch 9/60\n",
      "3410/3410 [==============================] - 6s 2ms/step - loss: 0.3822 - accuracy: 0.1771 - val_loss: 0.3694 - val_accuracy: 0.1796\n",
      "Epoch 10/60\n",
      "3410/3410 [==============================] - 6s 2ms/step - loss: 0.3727 - accuracy: 0.2173 - val_loss: 0.3597 - val_accuracy: 0.2969\n",
      "Epoch 11/60\n",
      "3410/3410 [==============================] - 6s 2ms/step - loss: 0.3763 - accuracy: 0.2982 - val_loss: 0.3672 - val_accuracy: 0.2741\n",
      "Epoch 12/60\n",
      "3410/3410 [==============================] - 6s 2ms/step - loss: 0.3734 - accuracy: 0.3394 - val_loss: 0.3913 - val_accuracy: 0.3515\n",
      "Epoch 13/60\n",
      "3410/3410 [==============================] - 6s 2ms/step - loss: 0.3765 - accuracy: 0.3499 - val_loss: 0.3598 - val_accuracy: 0.3545\n",
      "Epoch 14/60\n",
      "3410/3410 [==============================] - 6s 2ms/step - loss: 0.3687 - accuracy: 0.3349 - val_loss: 0.3632 - val_accuracy: 0.3545\n",
      "Epoch 15/60\n",
      "3410/3410 [==============================] - 7s 2ms/step - loss: 0.3709 - accuracy: 0.3672 - val_loss: 0.3815 - val_accuracy: 0.3762\n",
      "Epoch 16/60\n",
      "3410/3410 [==============================] - 7s 2ms/step - loss: 0.3673 - accuracy: 0.4000 - val_loss: 0.3623 - val_accuracy: 0.4531\n",
      "Epoch 17/60\n",
      "3410/3410 [==============================] - 6s 2ms/step - loss: 0.3673 - accuracy: 0.4695 - val_loss: 0.3654 - val_accuracy: 0.4748\n",
      "Epoch 18/60\n",
      "3410/3410 [==============================] - 5s 2ms/step - loss: 0.3640 - accuracy: 0.4238 - val_loss: 0.3683 - val_accuracy: 0.3791\n",
      "Epoch 19/60\n",
      "3410/3410 [==============================] - 5s 2ms/step - loss: 0.3819 - accuracy: 0.4603 - val_loss: 0.3658 - val_accuracy: 0.5317\n",
      "Epoch 20/60\n",
      "3410/3410 [==============================] - 5s 1ms/step - loss: 0.3685 - accuracy: 0.4783 - val_loss: 0.3684 - val_accuracy: 0.4577\n",
      "Epoch 21/60\n",
      "3410/3410 [==============================] - 5s 1ms/step - loss: 0.3731 - accuracy: 0.4676 - val_loss: 0.3719 - val_accuracy: 0.4865\n",
      "Epoch 22/60\n",
      "3410/3410 [==============================] - 5s 1ms/step - loss: 0.3756 - accuracy: 0.4802 - val_loss: 0.3864 - val_accuracy: 0.4554\n",
      "Epoch 23/60\n",
      "3410/3410 [==============================] - 5s 1ms/step - loss: 0.3709 - accuracy: 0.5312 - val_loss: 0.4178 - val_accuracy: 0.4454\n",
      "Epoch 24/60\n",
      "3410/3410 [==============================] - 5s 1ms/step - loss: 0.3780 - accuracy: 0.5529 - val_loss: 0.3741 - val_accuracy: 0.6021\n",
      "Epoch 25/60\n",
      "3410/3410 [==============================] - 4s 1ms/step - loss: 0.3698 - accuracy: 0.5767 - val_loss: 0.3740 - val_accuracy: 0.5381\n",
      "Epoch 26/60\n",
      "3410/3410 [==============================] - 4s 1ms/step - loss: 0.3756 - accuracy: 0.5837 - val_loss: 0.4377 - val_accuracy: 0.4924\n",
      "Epoch 27/60\n",
      "3410/3410 [==============================] - 5s 1ms/step - loss: 0.3637 - accuracy: 0.6257 - val_loss: 0.3633 - val_accuracy: 0.6221\n",
      "Epoch 28/60\n",
      "3410/3410 [==============================] - 5s 1ms/step - loss: 0.3821 - accuracy: 0.6075 - val_loss: 0.3678 - val_accuracy: 0.5951\n",
      "Epoch 29/60\n",
      "3410/3410 [==============================] - 5s 1ms/step - loss: 0.3746 - accuracy: 0.6409 - val_loss: 0.3625 - val_accuracy: 0.6455\n",
      "Epoch 30/60\n",
      "3410/3410 [==============================] - 5s 1ms/step - loss: 0.3749 - accuracy: 0.6740 - val_loss: 0.3649 - val_accuracy: 0.6890\n",
      "Epoch 31/60\n",
      "3410/3410 [==============================] - 5s 1ms/step - loss: 0.3754 - accuracy: 0.6223 - val_loss: 0.4375 - val_accuracy: 0.5469\n",
      "Epoch 32/60\n",
      "3410/3410 [==============================] - 4s 1ms/step - loss: 0.3786 - accuracy: 0.7208 - val_loss: 0.3777 - val_accuracy: 0.6907\n",
      "Epoch 33/60\n",
      "3410/3410 [==============================] - 4s 1ms/step - loss: 0.3717 - accuracy: 0.7248 - val_loss: 0.4261 - val_accuracy: 0.7142\n",
      "Epoch 34/60\n",
      "3410/3410 [==============================] - 4s 1ms/step - loss: 0.3729 - accuracy: 0.7871 - val_loss: 0.3546 - val_accuracy: 0.8281\n",
      "Epoch 35/60\n",
      "3410/3410 [==============================] - 5s 1ms/step - loss: 0.3734 - accuracy: 0.8029 - val_loss: 0.3582 - val_accuracy: 0.7793\n",
      "Epoch 36/60\n",
      "3410/3410 [==============================] - 5s 1ms/step - loss: 0.3708 - accuracy: 0.7729 - val_loss: 0.3805 - val_accuracy: 0.7535\n",
      "Epoch 37/60\n",
      "3410/3410 [==============================] - 5s 1ms/step - loss: 0.3993 - accuracy: 0.7359 - val_loss: 0.3731 - val_accuracy: 0.7488\n",
      "Epoch 38/60\n",
      "3410/3410 [==============================] - 5s 1ms/step - loss: 0.3862 - accuracy: 0.7592 - val_loss: 0.3717 - val_accuracy: 0.7829\n",
      "Epoch 39/60\n",
      "3410/3410 [==============================] - 5s 1ms/step - loss: 0.3961 - accuracy: 0.7408 - val_loss: 0.3768 - val_accuracy: 0.8222\n",
      "Epoch 40/60\n",
      "3410/3410 [==============================] - 5s 1ms/step - loss: 0.4118 - accuracy: 0.8088 - val_loss: 0.3704 - val_accuracy: 0.8644\n",
      "Epoch 41/60\n",
      "3410/3410 [==============================] - 5s 1ms/step - loss: 0.3713 - accuracy: 0.8048 - val_loss: 0.3995 - val_accuracy: 0.7312\n",
      "Epoch 42/60\n",
      "3410/3410 [==============================] - 5s 1ms/step - loss: 0.3748 - accuracy: 0.8191 - val_loss: 0.3884 - val_accuracy: 0.8433\n",
      "Epoch 43/60\n",
      "3410/3410 [==============================] - 5s 2ms/step - loss: 0.4258 - accuracy: 0.8120 - val_loss: 0.4442 - val_accuracy: 0.7993\n",
      "Epoch 44/60\n",
      "3410/3410 [==============================] - 5s 1ms/step - loss: 0.4444 - accuracy: 0.8132 - val_loss: 0.3999 - val_accuracy: 0.8486\n",
      "Epoch 45/60\n",
      "3410/3410 [==============================] - 5s 1ms/step - loss: 0.3957 - accuracy: 0.8676 - val_loss: 0.4322 - val_accuracy: 0.8234\n",
      "Epoch 46/60\n",
      "3410/3410 [==============================] - 6s 2ms/step - loss: 0.4124 - accuracy: 0.8330 - val_loss: 0.3739 - val_accuracy: 0.8850\n",
      "Epoch 47/60\n",
      "3410/3410 [==============================] - 5s 2ms/step - loss: 0.3798 - accuracy: 0.8815 - val_loss: 0.3725 - val_accuracy: 0.8856\n",
      "Epoch 48/60\n",
      "3410/3410 [==============================] - 5s 1ms/step - loss: 0.3836 - accuracy: 0.8953 - val_loss: 0.3702 - val_accuracy: 0.8973\n",
      "Epoch 49/60\n",
      "3410/3410 [==============================] - 5s 1ms/step - loss: 0.3912 - accuracy: 0.8672 - val_loss: 0.4150 - val_accuracy: 0.8644\n",
      "Epoch 50/60\n",
      "3410/3410 [==============================] - 5s 1ms/step - loss: 0.3868 - accuracy: 0.8928 - val_loss: 0.3911 - val_accuracy: 0.8979\n",
      "Epoch 51/60\n",
      "3410/3410 [==============================] - 5s 1ms/step - loss: 0.4079 - accuracy: 0.8654 - val_loss: 0.4130 - val_accuracy: 0.8662\n",
      "Epoch 52/60\n",
      "3410/3410 [==============================] - 5s 1ms/step - loss: 0.4042 - accuracy: 0.8826 - val_loss: 0.3826 - val_accuracy: 0.9114\n",
      "Epoch 53/60\n",
      "3410/3410 [==============================] - 5s 1ms/step - loss: 0.3929 - accuracy: 0.8941 - val_loss: 0.3649 - val_accuracy: 0.9090\n",
      "Epoch 54/60\n",
      "3410/3410 [==============================] - 5s 1ms/step - loss: 0.3755 - accuracy: 0.8955 - val_loss: 0.3876 - val_accuracy: 0.8580\n",
      "Epoch 55/60\n",
      "3410/3410 [==============================] - 5s 1ms/step - loss: 0.4213 - accuracy: 0.8113 - val_loss: 0.3987 - val_accuracy: 0.8627\n",
      "Epoch 56/60\n",
      "3410/3410 [==============================] - 5s 1ms/step - loss: 0.4147 - accuracy: 0.8532 - val_loss: 0.3975 - val_accuracy: 0.8638\n",
      "Epoch 57/60\n",
      "3410/3410 [==============================] - 5s 1ms/step - loss: 0.4067 - accuracy: 0.8661 - val_loss: 0.3615 - val_accuracy: 0.9302\n",
      "Epoch 58/60\n",
      "3410/3410 [==============================] - 5s 1ms/step - loss: 0.3988 - accuracy: 0.8916 - val_loss: 0.3696 - val_accuracy: 0.9261\n",
      "Epoch 59/60\n",
      "3410/3410 [==============================] - 5s 1ms/step - loss: 0.3864 - accuracy: 0.9101 - val_loss: 0.3951 - val_accuracy: 0.8979\n",
      "Epoch 60/60\n",
      "3410/3410 [==============================] - 5s 1ms/step - loss: 0.3795 - accuracy: 0.9173 - val_loss: 0.3727 - val_accuracy: 0.9249\n"
     ]
    }
   ],
   "source": [
    "history = model.fit(train_it,\n",
    "                    steps_per_epoch=len(train_it),\n",
    "                    validation_data=val_it,\n",
    "                    epochs=60\n",
    "                   )"
   ]
  },
  {
   "cell_type": "markdown",
   "metadata": {},
   "source": [
    "Evaluate the model"
   ]
  },
  {
   "cell_type": "code",
   "execution_count": 10,
   "metadata": {},
   "outputs": [
    {
     "data": {
      "text/plain": [
       "<matplotlib.legend.Legend at 0x7fdbbc622ca0>"
      ]
     },
     "execution_count": 10,
     "metadata": {},
     "output_type": "execute_result"
    },
    {
     "data": {
      "image/png": "[encoded data removed]",
      "text/plain": [
       "<Figure size 432x288 with 1 Axes>"
      ]
     },
     "metadata": {
      "needs_background": "light"
     },
     "output_type": "display_data"
    }
   ],
   "source": [
    "pyplot.plot(history.history['loss'], label = 'loss')\n",
    "pyplot.plot(history.history['val_loss'], label = 'val_loss')\n",
    "pyplot.xlabel('Epoch')\n",
    "pyplot.ylabel('Loss')\n",
    "pyplot.legend(loc='lower left')"
   ]
  },
  {
   "cell_type": "code",
   "execution_count": 11,
   "metadata": {},
   "outputs": [
    {
     "data": {
      "text/plain": [
       "<matplotlib.legend.Legend at 0x7fdbbc5bab50>"
      ]
     },
     "execution_count": 11,
     "metadata": {},
     "output_type": "execute_result"
    },
    {
     "data": {
      "image/png": "[encoded data removed]",
      "text/plain": [
       "<Figure size 432x288 with 1 Axes>"
      ]
     },
     "metadata": {
      "needs_background": "light"
     },
     "output_type": "display_data"
    }
   ],
   "source": [
    "pyplot.plot(history.history['accuracy'], label = 'accuracy')\n",
    "pyplot.plot(history.history['val_accuracy'], label = 'val_accuracy')\n",
    "pyplot.xlabel('Epoch')\n",
    "pyplot.ylabel('Accuracy')\n",
    "pyplot.legend(loc='lower right')"
   ]
  },
  {
   "cell_type": "code",
   "execution_count": 12,
   "metadata": {},
   "outputs": [],
   "source": [
    "model.save(\"airplanes_categorical.h5\")"
   ]
  }
 ],
 "metadata": {
  "kernelspec": {
   "display_name": "Python 3",
   "language": "python",
   "name": "python3"
  },
  "language_info": {
   "codemirror_mode": {
    "name": "ipython",
    "version": 3
   },
   "file_extension": ".py",
   "mimetype": "text/x-python",
   "name": "python",
   "nbconvert_exporter": "python",
   "pygments_lexer": "ipython3",
   "version": "3.8.10"
  }
 },
 "nbformat": 4,
 "nbformat_minor": 2
}
