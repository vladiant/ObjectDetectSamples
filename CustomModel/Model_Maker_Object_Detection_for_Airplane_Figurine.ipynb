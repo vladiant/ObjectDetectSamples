{
  "cells": [
    {
      "cell_type": "markdown",
      "metadata": {
        "id": "view-in-github",
        "colab_type": "text"
      },
      "source": [
        "<a href=\"https://colab.research.google.com/github/vladiant/ObjectDetectSamples/blob/main/CustomModel/Model_Maker_Object_Detection_for_Airplane_Figurine.ipynb\" target=\"_parent\"><img src=\"https://colab.research.google.com/assets/colab-badge.svg\" alt=\"Open In Colab\"/></a>"
      ]
    },
    {
      "cell_type": "markdown",
      "metadata": {
        "id": "5k8CfIUQxwb0"
      },
      "source": [
        "<a href=\"https://colab.research.google.com/github/khanhlvg/tflite_raspberry_pi/blob/main/object_detection/Train_custom_model_tutorial.ipynb\" target=\"_parent\"><img src=\"https://colab.research.google.com/assets/colab-badge.svg\" alt=\"Open In Colab\"/></a>"
      ]
    },
    {
      "cell_type": "markdown",
      "metadata": {
        "id": "gf2if_fGDaWc"
      },
      "source": [
        "##### Copyright 2021 The TensorFlow Authors."
      ]
    },
    {
      "cell_type": "markdown",
      "source": [
        "Based on [Train a custom object detection model using your data](https://www.youtube.com/watch?v=-ZyFYniGUsw&list=WL&index=1&t=1s)"
      ],
      "metadata": {
        "id": "0H1zTadrfvn5"
      }
    },
    {
      "cell_type": "code",
      "execution_count": 47,
      "metadata": {
        "cellView": "form",
        "id": "jrmj83afDJrv"
      },
      "outputs": [],
      "source": [
        "#@title Licensed under the Apache License, Version 2.0 (the \"License\");\n",
        "# you may not use this file except in compliance with the License.\n",
        "# You may obtain a copy of the License at\n",
        "#\n",
        "# https://www.apache.org/licenses/LICENSE-2.0\n",
        "#\n",
        "# Unless required by applicable law or agreed to in writing, software\n",
        "# distributed under the License is distributed on an \"AS IS\" BASIS,\n",
        "# WITHOUT WARRANTIES OR CONDITIONS OF ANY KIND, either express or implied.\n",
        "# See the License for the specific language governing permissions and\n",
        "# limitations under the License."
      ]
    },
    {
      "cell_type": "markdown",
      "metadata": {
        "id": "PpJEzDG6DK2Q"
      },
      "source": [
        "# Train a custom object detection model with TensorFlow Lite Model Maker\n",
        "\n",
        "In this colab notebook, you'll learn how to use the [TensorFlow Lite Model Maker](https://www.tensorflow.org/lite/guide/model_maker) to train a custom object detection model to detect Android figurines and how to put the model on a Raspberry Pi.\n",
        "\n",
        "The Model Maker library uses *transfer learning* to simplify the process of training a TensorFlow Lite model using a custom dataset. Retraining a TensorFlow Lite model with your own custom dataset reduces the amount of training data required and will shorten the training time.\n"
      ]
    },
    {
      "cell_type": "markdown",
      "metadata": {
        "id": "BRYjtwRZGBOI"
      },
      "source": [
        "## Preparation\n",
        "\n",
        "### Install the required packages\n",
        "Start by installing the required packages, including the Model Maker package from the [GitHub repo](https://github.com/tensorflow/examples/tree/master/tensorflow_examples/lite/model_maker) and the pycocotools library you'll use for evaluation."
      ]
    },
    {
      "cell_type": "code",
      "execution_count": 48,
      "metadata": {
        "id": "35BJmtVpAP_n"
      },
      "outputs": [],
      "source": [
        "!pip install -q tflite-model-maker\n",
        "!pip install -q tflite-support"
      ]
    },
    {
      "cell_type": "markdown",
      "metadata": {
        "id": "prQ86DdtD317"
      },
      "source": [
        "Import the required packages."
      ]
    },
    {
      "cell_type": "code",
      "execution_count": 49,
      "metadata": {
        "id": "l4QQTXHHATDS"
      },
      "outputs": [],
      "source": [
        "import numpy as np\n",
        "import os\n",
        "\n",
        "from tflite_model_maker.config import ExportFormat, QuantizationConfig\n",
        "from tflite_model_maker import model_spec\n",
        "from tflite_model_maker import object_detector\n",
        "\n",
        "from tflite_support import metadata\n",
        "\n",
        "import tensorflow as tf\n",
        "assert tf.__version__.startswith('2')\n",
        "\n",
        "tf.get_logger().setLevel('ERROR')\n",
        "from absl import logging\n",
        "logging.set_verbosity(logging.ERROR)"
      ]
    },
    {
      "cell_type": "code",
      "execution_count": 50,
      "metadata": {
        "id": "8AGg7D4JAV62"
      },
      "outputs": [],
      "source": [
        "# !gdown --id ...\n",
        "# !unzip -q CustomModelDataset.zip"
      ]
    },
    {
      "cell_type": "code",
      "source": [
        "!wget https://github.com/vladiant/ObjectDetectSamples/raw/main/CustomModel/CustomModelDataset.zip\n",
        "!unzip -q CustomModelDataset.zip"
      ],
      "metadata": {
        "colab": {
          "base_uri": "https://localhost:8080/"
        },
        "id": "eBuOmJO8OU8w",
        "outputId": "f15fe0b5-155c-4a1a-affa-979b8fec5914"
      },
      "execution_count": 51,
      "outputs": [
        {
          "output_type": "stream",
          "name": "stdout",
          "text": [
            "--2022-02-17 06:38:53--  https://github.com/vladiant/ObjectDetectSamples/raw/main/CustomModel/CustomModelDataset.zip\n",
            "Resolving github.com (github.com)... 140.82.112.3\n",
            "Connecting to github.com (github.com)|140.82.112.3|:443... connected.\n",
            "HTTP request sent, awaiting response... 302 Found\n",
            "Location: https://raw.githubusercontent.com/vladiant/ObjectDetectSamples/main/CustomModel/CustomModelDataset.zip [following]\n",
            "--2022-02-17 06:38:53--  https://raw.githubusercontent.com/vladiant/ObjectDetectSamples/main/CustomModel/CustomModelDataset.zip\n",
            "Resolving raw.githubusercontent.com (raw.githubusercontent.com)... 185.199.109.133, 185.199.111.133, 185.199.108.133, ...\n",
            "Connecting to raw.githubusercontent.com (raw.githubusercontent.com)|185.199.109.133|:443... connected.\n",
            "HTTP request sent, awaiting response... 200 OK\n",
            "Length: 8451592 (8.1M) [application/zip]\n",
            "Saving to: ‘CustomModelDataset.zip.1’\n",
            "\n",
            "CustomModelDataset. 100%[===================>]   8.06M  --.-KB/s    in 0.09s   \n",
            "\n",
            "2022-02-17 06:38:53 (88.5 MB/s) - ‘CustomModelDataset.zip.1’ saved [8451592/8451592]\n",
            "\n",
            "replace CustomModelDataset/train/airplane_001.xml? [y]es, [n]o, [A]ll, [N]one, [r]ename: A\n"
          ]
        }
      ]
    },
    {
      "cell_type": "markdown",
      "metadata": {
        "id": "Yxh3KInCFeB-"
      },
      "source": [
        "## Train the object detection model\n",
        "\n",
        "### Step 1: Load the dataset\n",
        "\n",
        "* Images in `train_data` is used to train the custom object detection model.\n",
        "* Images in `val_data` is used to check if the model can generalize well to new images that it hasn't seen before."
      ]
    },
    {
      "cell_type": "code",
      "execution_count": 52,
      "metadata": {
        "id": "WiAahdsQAdT7"
      },
      "outputs": [],
      "source": [
        "train_data = object_detector.DataLoader.from_pascal_voc(\n",
        "    'CustomModelDataset/train',\n",
        "    'CustomModelDataset/train',\n",
        "    ['airplane']\n",
        ")\n",
        "\n",
        "val_data = object_detector.DataLoader.from_pascal_voc(\n",
        "    'CustomModelDataset/validate',\n",
        "    'CustomModelDataset/validate',\n",
        "    ['airplane']\n",
        ")"
      ]
    },
    {
      "cell_type": "markdown",
      "metadata": {
        "id": "UNRhB8N7GHXj"
      },
      "source": [
        "### Step 2: Select a model architecture\n",
        "\n",
        "EfficientDet-Lite[0-4] are a family of mobile/IoT-friendly object detection models derived from the [EfficientDet](https://arxiv.org/abs/1911.09070) architecture.\n",
        "\n",
        "Here is the performance of each EfficientDet-Lite models compared to each others.\n",
        "\n",
        "| Model architecture | Size(MB)* | Latency(ms)** | Average Precision*** |\n",
        "|--------------------|-----------|---------------|----------------------|\n",
        "| EfficientDet-Lite0 | 4.4       | 146           | 25.69%               |\n",
        "| EfficientDet-Lite1 | 5.8       | 259           | 30.55%               |\n",
        "| EfficientDet-Lite2 | 7.2       | 396           | 33.97%               |\n",
        "| EfficientDet-Lite3 | 11.4      | 716           | 37.70%               |\n",
        "| EfficientDet-Lite4 | 19.9      | 1886          | 41.96%               |\n",
        "\n",
        "<i> * Size of the integer quantized models. <br/>\n",
        "** Latency measured on Raspberry Pi 4 using 4 threads on CPU. <br/>\n",
        "*** Average Precision is the mAP (mean Average Precision) on the COCO 2017 validation dataset.\n",
        "</i>\n",
        "\n",
        "In this notebook, we use EfficientDet-Lite0 to train our model. You can choose other model architectures depending on whether speed or accuracy is more important to you."
      ]
    },
    {
      "cell_type": "code",
      "execution_count": 53,
      "metadata": {
        "id": "GZOojrDHAY1J"
      },
      "outputs": [],
      "source": [
        "spec = model_spec.get('efficientdet_lite0')"
      ]
    },
    {
      "cell_type": "markdown",
      "metadata": {
        "id": "5aeDU4mIM4ft"
      },
      "source": [
        "### Step 3: Train the TensorFlow model with the training data.\n",
        "\n",
        "* Set `epochs = 20`, which means it will go through the training dataset 20 times. You can look at the validation accuracy during training and stop when you see validation loss (`val_loss`) stop decreasing to avoid overfitting.\n",
        "* Set `batch_size = 4` here so you will see that it takes 15 steps to go through the 62 images in the training dataset.\n",
        "* Set `train_whole_model=True` to fine-tune the whole model instead of just training the head layer to improve accuracy. The trade-off is that it may take longer to train the model."
      ]
    },
    {
      "cell_type": "code",
      "execution_count": 54,
      "metadata": {
        "colab": {
          "base_uri": "https://localhost:8080/"
        },
        "id": "_MClfpsJAfda",
        "outputId": "b35a7942-0d6c-43c4-cc7d-21f8b521e82c"
      },
      "outputs": [
        {
          "output_type": "stream",
          "name": "stdout",
          "text": [
            "Epoch 1/20\n",
            "157/157 [==============================] - 83s 288ms/step - det_loss: 0.9790 - cls_loss: 0.5427 - box_loss: 0.0087 - reg_l2_loss: 0.0631 - loss: 1.0421 - learning_rate: 0.0065 - gradient_norm: 3.8914 - val_det_loss: 0.5763 - val_cls_loss: 0.3196 - val_box_loss: 0.0051 - val_reg_l2_loss: 0.0632 - val_loss: 0.6394\n",
            "Epoch 2/20\n",
            "157/157 [==============================] - 42s 269ms/step - det_loss: 0.6123 - cls_loss: 0.3349 - box_loss: 0.0055 - reg_l2_loss: 0.0632 - loss: 0.6756 - learning_rate: 0.0049 - gradient_norm: 3.7066 - val_det_loss: 0.4173 - val_cls_loss: 0.2204 - val_box_loss: 0.0039 - val_reg_l2_loss: 0.0633 - val_loss: 0.4806\n",
            "Epoch 3/20\n",
            "157/157 [==============================] - 42s 266ms/step - det_loss: 0.5623 - cls_loss: 0.3156 - box_loss: 0.0049 - reg_l2_loss: 0.0633 - loss: 0.6257 - learning_rate: 0.0048 - gradient_norm: 3.7593 - val_det_loss: 0.4497 - val_cls_loss: 0.2342 - val_box_loss: 0.0043 - val_reg_l2_loss: 0.0634 - val_loss: 0.5131\n",
            "Epoch 4/20\n",
            "157/157 [==============================] - 42s 266ms/step - det_loss: 0.4862 - cls_loss: 0.2782 - box_loss: 0.0042 - reg_l2_loss: 0.0634 - loss: 0.5496 - learning_rate: 0.0046 - gradient_norm: 3.3559 - val_det_loss: 0.4699 - val_cls_loss: 0.2718 - val_box_loss: 0.0040 - val_reg_l2_loss: 0.0634 - val_loss: 0.5333\n",
            "Epoch 5/20\n",
            "157/157 [==============================] - 47s 299ms/step - det_loss: 0.4760 - cls_loss: 0.2700 - box_loss: 0.0041 - reg_l2_loss: 0.0634 - loss: 0.5395 - learning_rate: 0.0043 - gradient_norm: 3.6352 - val_det_loss: 0.4265 - val_cls_loss: 0.2244 - val_box_loss: 0.0040 - val_reg_l2_loss: 0.0635 - val_loss: 0.4900\n",
            "Epoch 6/20\n",
            "157/157 [==============================] - 43s 272ms/step - det_loss: 0.4484 - cls_loss: 0.2598 - box_loss: 0.0038 - reg_l2_loss: 0.0635 - loss: 0.5119 - learning_rate: 0.0040 - gradient_norm: 3.1696 - val_det_loss: 0.4246 - val_cls_loss: 0.2157 - val_box_loss: 0.0042 - val_reg_l2_loss: 0.0635 - val_loss: 0.4881\n",
            "Epoch 7/20\n",
            "157/157 [==============================] - 42s 270ms/step - det_loss: 0.4453 - cls_loss: 0.2522 - box_loss: 0.0039 - reg_l2_loss: 0.0635 - loss: 0.5088 - learning_rate: 0.0037 - gradient_norm: 3.3264 - val_det_loss: 0.5557 - val_cls_loss: 0.2711 - val_box_loss: 0.0057 - val_reg_l2_loss: 0.0635 - val_loss: 0.6192\n",
            "Epoch 8/20\n",
            "157/157 [==============================] - 42s 269ms/step - det_loss: 0.4258 - cls_loss: 0.2463 - box_loss: 0.0036 - reg_l2_loss: 0.0636 - loss: 0.4893 - learning_rate: 0.0033 - gradient_norm: 3.4138 - val_det_loss: 0.4000 - val_cls_loss: 0.2094 - val_box_loss: 0.0038 - val_reg_l2_loss: 0.0636 - val_loss: 0.4636\n",
            "Epoch 9/20\n",
            "157/157 [==============================] - 42s 266ms/step - det_loss: 0.4028 - cls_loss: 0.2345 - box_loss: 0.0034 - reg_l2_loss: 0.0636 - loss: 0.4664 - learning_rate: 0.0029 - gradient_norm: 3.0041 - val_det_loss: 0.3425 - val_cls_loss: 0.1774 - val_box_loss: 0.0033 - val_reg_l2_loss: 0.0636 - val_loss: 0.4061\n",
            "Epoch 10/20\n",
            "157/157 [==============================] - 45s 284ms/step - det_loss: 0.3885 - cls_loss: 0.2281 - box_loss: 0.0032 - reg_l2_loss: 0.0636 - loss: 0.4520 - learning_rate: 0.0025 - gradient_norm: 2.8549 - val_det_loss: 0.3751 - val_cls_loss: 0.1893 - val_box_loss: 0.0037 - val_reg_l2_loss: 0.0636 - val_loss: 0.4387\n",
            "Epoch 11/20\n",
            "157/157 [==============================] - 42s 266ms/step - det_loss: 0.3891 - cls_loss: 0.2300 - box_loss: 0.0032 - reg_l2_loss: 0.0636 - loss: 0.4527 - learning_rate: 0.0021 - gradient_norm: 3.0067 - val_det_loss: 0.3572 - val_cls_loss: 0.1833 - val_box_loss: 0.0035 - val_reg_l2_loss: 0.0636 - val_loss: 0.4207\n",
            "Epoch 12/20\n",
            "157/157 [==============================] - 42s 265ms/step - det_loss: 0.3714 - cls_loss: 0.2216 - box_loss: 0.0030 - reg_l2_loss: 0.0636 - loss: 0.4350 - learning_rate: 0.0017 - gradient_norm: 2.9990 - val_det_loss: 0.3696 - val_cls_loss: 0.1926 - val_box_loss: 0.0035 - val_reg_l2_loss: 0.0636 - val_loss: 0.4332\n",
            "Epoch 13/20\n",
            "157/157 [==============================] - 42s 266ms/step - det_loss: 0.3659 - cls_loss: 0.2192 - box_loss: 0.0029 - reg_l2_loss: 0.0636 - loss: 0.4294 - learning_rate: 0.0013 - gradient_norm: 2.8091 - val_det_loss: 0.3757 - val_cls_loss: 0.1953 - val_box_loss: 0.0036 - val_reg_l2_loss: 0.0636 - val_loss: 0.4392\n",
            "Epoch 14/20\n",
            "157/157 [==============================] - 43s 271ms/step - det_loss: 0.3633 - cls_loss: 0.2157 - box_loss: 0.0030 - reg_l2_loss: 0.0636 - loss: 0.4268 - learning_rate: 9.6625e-04 - gradient_norm: 2.7704 - val_det_loss: 0.3312 - val_cls_loss: 0.1800 - val_box_loss: 0.0030 - val_reg_l2_loss: 0.0636 - val_loss: 0.3948\n",
            "Epoch 15/20\n",
            "157/157 [==============================] - 45s 285ms/step - det_loss: 0.3634 - cls_loss: 0.2157 - box_loss: 0.0030 - reg_l2_loss: 0.0636 - loss: 0.4270 - learning_rate: 6.6282e-04 - gradient_norm: 2.9574 - val_det_loss: 0.3272 - val_cls_loss: 0.1778 - val_box_loss: 0.0030 - val_reg_l2_loss: 0.0636 - val_loss: 0.3907\n",
            "Epoch 16/20\n",
            "157/157 [==============================] - 42s 267ms/step - det_loss: 0.3435 - cls_loss: 0.2068 - box_loss: 0.0027 - reg_l2_loss: 0.0636 - loss: 0.4070 - learning_rate: 4.0951e-04 - gradient_norm: 2.7678 - val_det_loss: 0.3274 - val_cls_loss: 0.1738 - val_box_loss: 0.0031 - val_reg_l2_loss: 0.0636 - val_loss: 0.3909\n",
            "Epoch 17/20\n",
            "157/157 [==============================] - 42s 266ms/step - det_loss: 0.3608 - cls_loss: 0.2166 - box_loss: 0.0029 - reg_l2_loss: 0.0636 - loss: 0.4243 - learning_rate: 2.1321e-04 - gradient_norm: 2.6186 - val_det_loss: 0.3287 - val_cls_loss: 0.1759 - val_box_loss: 0.0031 - val_reg_l2_loss: 0.0636 - val_loss: 0.3922\n",
            "Epoch 18/20\n",
            "157/157 [==============================] - 42s 267ms/step - det_loss: 0.3568 - cls_loss: 0.2130 - box_loss: 0.0029 - reg_l2_loss: 0.0636 - loss: 0.4204 - learning_rate: 7.9297e-05 - gradient_norm: 2.8258 - val_det_loss: 0.3243 - val_cls_loss: 0.1727 - val_box_loss: 0.0030 - val_reg_l2_loss: 0.0636 - val_loss: 0.3878\n",
            "Epoch 19/20\n",
            "157/157 [==============================] - 42s 266ms/step - det_loss: 0.3625 - cls_loss: 0.2178 - box_loss: 0.0029 - reg_l2_loss: 0.0636 - loss: 0.4260 - learning_rate: 1.1412e-05 - gradient_norm: 2.8824 - val_det_loss: 0.3272 - val_cls_loss: 0.1746 - val_box_loss: 0.0031 - val_reg_l2_loss: 0.0636 - val_loss: 0.3908\n",
            "Epoch 20/20\n",
            "157/157 [==============================] - 45s 289ms/step - det_loss: 0.3557 - cls_loss: 0.2120 - box_loss: 0.0029 - reg_l2_loss: 0.0636 - loss: 0.4193 - learning_rate: 1.1409e-05 - gradient_norm: 2.8195 - val_det_loss: 0.3253 - val_cls_loss: 0.1739 - val_box_loss: 0.0030 - val_reg_l2_loss: 0.0636 - val_loss: 0.3889\n"
          ]
        }
      ],
      "source": [
        "model = object_detector.create(train_data, model_spec=spec, batch_size=4, train_whole_model=True, epochs=20, validation_data=val_data)"
      ]
    },
    {
      "cell_type": "markdown",
      "metadata": {
        "id": "KB4hKeerMmh4"
      },
      "source": [
        "### Step 4. Evaluate the model with the validation data.\n",
        "\n",
        "After training the object detection model using the images in the training dataset, use the 10 images in the validation dataset to evaluate how the model performs against new data it has never seen before.\n",
        "\n",
        "As the default batch size is 64, it will take 1 step to go through the 10 images in the validation dataset.\n",
        "\n",
        "The evaluation metrics are same as [COCO](https://cocodataset.org/#detection-eval)."
      ]
    },
    {
      "cell_type": "code",
      "execution_count": 55,
      "metadata": {
        "colab": {
          "base_uri": "https://localhost:8080/"
        },
        "id": "OUqEpcYwAg8L",
        "outputId": "5ca263a0-afcf-4347-914e-4164b55e2cf4"
      },
      "outputs": [
        {
          "output_type": "stream",
          "name": "stdout",
          "text": [
            "2/2 [==============================] - 13s 3s/step\n",
            "\n"
          ]
        },
        {
          "output_type": "execute_result",
          "data": {
            "text/plain": [
              "{'AP': 0.53408074,\n",
              " 'AP50': 0.9303331,\n",
              " 'AP75': 0.56563866,\n",
              " 'AP_/airplane': 0.53408074,\n",
              " 'APl': 0.80561644,\n",
              " 'APm': 0.62806773,\n",
              " 'APs': 0.4079019,\n",
              " 'ARl': 0.8375,\n",
              " 'ARm': 0.71649486,\n",
              " 'ARmax1': 0.21962617,\n",
              " 'ARmax10': 0.5616822,\n",
              " 'ARmax100': 0.6163551,\n",
              " 'ARs': 0.51100916}"
            ]
          },
          "metadata": {},
          "execution_count": 55
        }
      ],
      "source": [
        "model.evaluate(val_data)"
      ]
    },
    {
      "cell_type": "markdown",
      "metadata": {
        "id": "NARVYk9rGLIl"
      },
      "source": [
        "### Step 5: Export as a TensorFlow Lite model.\n",
        "\n",
        "Export the trained object detection model to the TensorFlow Lite format by specifying which folder you want to export the quantized model to. The default post-training quantization technique is [full integer quantization](https://www.tensorflow.org/lite/performance/post_training_integer_quant). This allows the TensorFlow Lite model to be smaller, run faster on Raspberry Pi CPU and also compatible with the Google Coral EdgeTPU."
      ]
    },
    {
      "cell_type": "code",
      "execution_count": 56,
      "metadata": {
        "id": "_u3eFxoBAiqE"
      },
      "outputs": [],
      "source": [
        "model.export(export_dir='.', tflite_filename='android.tflite')"
      ]
    },
    {
      "cell_type": "markdown",
      "metadata": {
        "id": "JZcBmEigOCO3"
      },
      "source": [
        "### Step 6:  Evaluate the TensorFlow Lite model.\n",
        "\n",
        "Several factors can affect the model accuracy when exporting to TFLite:\n",
        "* [Quantization](https://www.tensorflow.org/lite/performance/model_optimization) helps shrinking the model size by 4 times at the expense of some accuracy drop.\n",
        "* The original TensorFlow model uses per-class [non-max supression (NMS)](https://www.coursera.org/lecture/convolutional-neural-networks/non-max-suppression-dvrjH) for post-processing, while the TFLite model uses global NMS that's much faster but less accurate.\n",
        "Keras outputs maximum 100 detections while tflite outputs maximum 25 detections.\n",
        "\n",
        "Therefore you'll have to evaluate the exported TFLite model and compare its accuracy with the original TensorFlow model."
      ]
    },
    {
      "cell_type": "code",
      "execution_count": 57,
      "metadata": {
        "colab": {
          "base_uri": "https://localhost:8080/"
        },
        "id": "Jbl8z9_wBPlr",
        "outputId": "30a16805-75c2-4c80-932c-11ee23bb2f04"
      },
      "outputs": [
        {
          "output_type": "stream",
          "name": "stdout",
          "text": [
            "70/70 [==============================] - 183s 3s/step\n",
            "\n"
          ]
        },
        {
          "output_type": "execute_result",
          "data": {
            "text/plain": [
              "{'AP': 0.53040963,\n",
              " 'AP50': 0.9312574,\n",
              " 'AP75': 0.54938895,\n",
              " 'AP_/airplane': 0.53040963,\n",
              " 'APl': 0.7919555,\n",
              " 'APm': 0.62070733,\n",
              " 'APs': 0.40543285,\n",
              " 'ARl': 0.825,\n",
              " 'ARm': 0.67938143,\n",
              " 'ARmax1': 0.22102804,\n",
              " 'ARmax10': 0.55280375,\n",
              " 'ARmax100': 0.58785045,\n",
              " 'ARs': 0.4889908}"
            ]
          },
          "metadata": {},
          "execution_count": 57
        }
      ],
      "source": [
        "model.evaluate_tflite('android.tflite', val_data)"
      ]
    },
    {
      "cell_type": "markdown",
      "source": [
        "Define some visualization functions\n",
        "https://www.tensorflow.org/lite/tutorials/model_maker_object_detection"
      ],
      "metadata": {
        "id": "kjclgHwXV996"
      }
    },
    {
      "cell_type": "code",
      "source": [
        " !pip uninstall -y opencv-python-headless\n",
        " !pip install opencv-python-headless==4.1.2.30 "
      ],
      "metadata": {
        "colab": {
          "base_uri": "https://localhost:8080/",
          "height": 242
        },
        "id": "4pPqvBGiWQpZ",
        "outputId": "2cf868f5-fa63-417f-a275-93c28729781e"
      },
      "execution_count": 58,
      "outputs": [
        {
          "output_type": "stream",
          "name": "stdout",
          "text": [
            "Found existing installation: opencv-python-headless 4.1.2.30\n",
            "Uninstalling opencv-python-headless-4.1.2.30:\n",
            "  Successfully uninstalled opencv-python-headless-4.1.2.30\n",
            "Collecting opencv-python-headless==4.1.2.30\n",
            "  Using cached opencv_python_headless-4.1.2.30-cp37-cp37m-manylinux1_x86_64.whl (21.8 MB)\n",
            "Requirement already satisfied: numpy>=1.14.5 in /usr/local/lib/python3.7/dist-packages (from opencv-python-headless==4.1.2.30) (1.21.5)\n",
            "Installing collected packages: opencv-python-headless\n",
            "Successfully installed opencv-python-headless-4.1.2.30\n"
          ]
        },
        {
          "output_type": "display_data",
          "data": {
            "application/vnd.colab-display-data+json": {
              "pip_warning": {
                "packages": [
                  "cv2"
                ]
              }
            }
          },
          "metadata": {}
        }
      ]
    },
    {
      "cell_type": "code",
      "source": [
        "import cv2\n",
        "\n",
        "from PIL import Image"
      ],
      "metadata": {
        "id": "Urwh0T7iV4yw"
      },
      "execution_count": 59,
      "outputs": []
    },
    {
      "cell_type": "code",
      "source": [
        "# Load the labels into a list\n",
        "classes = ['airplane'] * model.model_spec.config.num_classes\n",
        "label_map = model.model_spec.config.label_map\n",
        "for label_id, label_name in label_map.as_dict().items():\n",
        "  classes[label_id-1] = label_name"
      ],
      "metadata": {
        "id": "qoyN1rdtWpEV"
      },
      "execution_count": 60,
      "outputs": []
    },
    {
      "cell_type": "code",
      "source": [
        "# Define a list of colors for visualization\n",
        "COLORS = np.random.randint(0, 255, size=(len(classes), 3), dtype=np.uint8)"
      ],
      "metadata": {
        "id": "Mpjq2yNIV8cM"
      },
      "execution_count": 61,
      "outputs": []
    },
    {
      "cell_type": "code",
      "source": [
        "def preprocess_image(image_path, input_size):\n",
        "  \"\"\"Preprocess the input image to feed to the TFLite model\"\"\"\n",
        "  img = tf.io.read_file(image_path)\n",
        "  img = tf.io.decode_image(img, channels=3)\n",
        "  img = tf.image.convert_image_dtype(img, tf.uint8)\n",
        "  original_image = img\n",
        "  resized_img = tf.image.resize(img, input_size)\n",
        "  resized_img = resized_img[tf.newaxis, :]\n",
        "  resized_img = tf.cast(resized_img, dtype=tf.uint8)\n",
        "  return resized_img, original_image"
      ],
      "metadata": {
        "id": "-XjlRV5_XC3S"
      },
      "execution_count": 62,
      "outputs": []
    },
    {
      "cell_type": "code",
      "source": [
        "def detect_objects(interpreter, image, threshold):\n",
        "  \"\"\"Returns a list of detection results, each a dictionary of object info.\"\"\"\n",
        "\n",
        "  signature_fn = interpreter.get_signature_runner()\n",
        "\n",
        "  # Feed the input image to the model\n",
        "  output = signature_fn(images=image)\n",
        "\n",
        "  # Get all outputs from the model\n",
        "  count = int(np.squeeze(output['output_0']))\n",
        "  scores = np.squeeze(output['output_1'])\n",
        "  classes = np.squeeze(output['output_2'])\n",
        "  boxes = np.squeeze(output['output_3'])\n",
        "\n",
        "  results = []\n",
        "  for i in range(count):\n",
        "    if scores[i] >= threshold:\n",
        "      result = {\n",
        "        'bounding_box': boxes[i],\n",
        "        'class_id': classes[i],\n",
        "        'score': scores[i]\n",
        "      }\n",
        "      results.append(result)\n",
        "  return results"
      ],
      "metadata": {
        "id": "kRCaM9YRXHR5"
      },
      "execution_count": 63,
      "outputs": []
    },
    {
      "cell_type": "code",
      "source": [
        "def run_odt_and_draw_results(image_path, interpreter, threshold=0.5):\n",
        "  \"\"\"Run object detection on the input image and draw the detection results\"\"\"\n",
        "  # Load the input shape required by the model\n",
        "  _, input_height, input_width, _ = interpreter.get_input_details()[0]['shape']\n",
        "\n",
        "  # Load the input image and preprocess it\n",
        "  preprocessed_image, original_image = preprocess_image(\n",
        "      image_path,\n",
        "      (input_height, input_width)\n",
        "    )\n",
        "\n",
        "  # Run object detection on the input image\n",
        "  results = detect_objects(interpreter, preprocessed_image, threshold=threshold)\n",
        "\n",
        "  # Plot the detection results on the input image\n",
        "  original_image_np = original_image.numpy().astype(np.uint8)\n",
        "  for obj in results:\n",
        "    # Convert the object bounding box from relative coordinates to absolute\n",
        "    # coordinates based on the original image resolution\n",
        "    ymin, xmin, ymax, xmax = obj['bounding_box']\n",
        "    xmin = int(xmin * original_image_np.shape[1])\n",
        "    xmax = int(xmax * original_image_np.shape[1])\n",
        "    ymin = int(ymin * original_image_np.shape[0])\n",
        "    ymax = int(ymax * original_image_np.shape[0])\n",
        "\n",
        "    # Find the class index of the current object\n",
        "    class_id = int(obj['class_id'])\n",
        "\n",
        "    # Draw the bounding box and label on the image\n",
        "    color = [int(c) for c in COLORS[class_id]]\n",
        "    cv2.rectangle(original_image_np, (xmin, ymin), (xmax, ymax), color, 2)\n",
        "    # Make adjustments to make the label visible for all objects\n",
        "    y = ymin - 15 if ymin - 15 > 15 else ymin + 15\n",
        "    label = \"{}: {:.0f}%\".format(classes[class_id], obj['score'] * 100)\n",
        "    cv2.putText(original_image_np, label, (xmin, y),\n",
        "        cv2.FONT_HERSHEY_SIMPLEX, 0.5, color, 2)\n",
        "\n",
        "  # Return the final image\n",
        "  original_uint8 = original_image_np.astype(np.uint8)\n",
        "  return original_uint8"
      ],
      "metadata": {
        "id": "MpVLxzmvXMEl"
      },
      "execution_count": 64,
      "outputs": []
    },
    {
      "cell_type": "code",
      "source": [
        "INPUT_IMAGE_URL = \"https://github.com/vladiant/ObjectDetectSamples/raw/main/CustomModel/42849.jpg\"\n",
        "DETECTION_THRESHOLD = 0.3"
      ],
      "metadata": {
        "id": "zaPFbsAQXOJx"
      },
      "execution_count": 65,
      "outputs": []
    },
    {
      "cell_type": "code",
      "source": [
        "TEMP_FILE = 'image.jpg'"
      ],
      "metadata": {
        "id": "9r1jCL7dXaIG"
      },
      "execution_count": 66,
      "outputs": []
    },
    {
      "cell_type": "code",
      "source": [
        "!wget -O $TEMP_FILE $INPUT_IMAGE_URL\n"
      ],
      "metadata": {
        "colab": {
          "base_uri": "https://localhost:8080/"
        },
        "id": "HNjGAK7uXdzy",
        "outputId": "3eb6342c-0dcc-4f91-b979-2b9f56fa350c"
      },
      "execution_count": 67,
      "outputs": [
        {
          "output_type": "stream",
          "name": "stdout",
          "text": [
            "--2022-02-17 07:07:56--  https://github.com/vladiant/ObjectDetectSamples/raw/main/CustomModel/42849.jpg\n",
            "Resolving github.com (github.com)... 140.82.114.4\n",
            "Connecting to github.com (github.com)|140.82.114.4|:443... connected.\n",
            "HTTP request sent, awaiting response... 302 Found\n",
            "Location: https://raw.githubusercontent.com/vladiant/ObjectDetectSamples/main/CustomModel/42849.jpg [following]\n",
            "--2022-02-17 07:07:56--  https://raw.githubusercontent.com/vladiant/ObjectDetectSamples/main/CustomModel/42849.jpg\n",
            "Resolving raw.githubusercontent.com (raw.githubusercontent.com)... 185.199.108.133, 185.199.109.133, 185.199.110.133, ...\n",
            "Connecting to raw.githubusercontent.com (raw.githubusercontent.com)|185.199.108.133|:443... connected.\n",
            "HTTP request sent, awaiting response... 200 OK\n",
            "Length: 15528 (15K) [image/jpeg]\n",
            "Saving to: ‘image.jpg’\n",
            "\n",
            "\rimage.jpg             0%[                    ]       0  --.-KB/s               \rimage.jpg           100%[===================>]  15.16K  --.-KB/s    in 0s      \n",
            "\n",
            "2022-02-17 07:07:56 (47.4 MB/s) - ‘image.jpg’ saved [15528/15528]\n",
            "\n"
          ]
        }
      ]
    },
    {
      "cell_type": "code",
      "source": [
        "im = Image.open(TEMP_FILE)\n",
        "im.thumbnail((512, 512), Image.ANTIALIAS)\n",
        "im.save(TEMP_FILE, 'PNG')"
      ],
      "metadata": {
        "id": "QTHN2l3xXvuo"
      },
      "execution_count": 68,
      "outputs": []
    },
    {
      "cell_type": "code",
      "source": [
        "# Load the TFLite model\n",
        "interpreter = tf.lite.Interpreter(model_path='android.tflite')\n",
        "interpreter.allocate_tensors()"
      ],
      "metadata": {
        "id": "DBH0SwHLZNTs"
      },
      "execution_count": 69,
      "outputs": []
    },
    {
      "cell_type": "code",
      "source": [
        "# Run inference and draw detection result on the local copy of the original file\n",
        "detection_result_image = run_odt_and_draw_results(\n",
        "    TEMP_FILE,\n",
        "    interpreter,\n",
        "    threshold=DETECTION_THRESHOLD\n",
        ")"
      ],
      "metadata": {
        "id": "i-qps8e9Zg2Q"
      },
      "execution_count": 70,
      "outputs": []
    },
    {
      "cell_type": "code",
      "source": [
        "# Show the detection result\n",
        "Image.fromarray(detection_result_image)"
      ],
      "metadata": {
        "colab": {
          "base_uri": "https://localhost:8080/",
          "height": 273
        },
        "id": "xi7yF43jZl6S",
        "outputId": "cfe5e9ad-ae2f-4383-b87e-f5aed6e96a20"
      },
      "execution_count": 71,
      "outputs": [
        {
          "output_type": "execute_result",
          "data": {
            "image/png": "[encoded data removed]",
            "text/plain": [
              "<PIL.Image.Image image mode=RGB size=256x256 at 0x7F0391159A10>"
            ]
          },
          "metadata": {},
          "execution_count": 71
        }
      ]
    }
  ],
  "metadata": {
    "accelerator": "GPU",
    "colab": {
      "collapsed_sections": [],
      "name": "Model Maker Object Detection for Airplane Figurine",
      "provenance": [],
      "include_colab_link": true
    },
    "kernelspec": {
      "display_name": "Python 3",
      "name": "python3"
    },
    "language_info": {
      "name": "python"
    }
  },
  "nbformat": 4,
  "nbformat_minor": 0
}